{
 "cells": [
  {
   "cell_type": "code",
   "execution_count": 6,
   "id": "973b6764",
   "metadata": {},
   "outputs": [
    {
     "data": {
      "text/html": [
       "<div>\n",
       "<style scoped>\n",
       "    .dataframe tbody tr th:only-of-type {\n",
       "        vertical-align: middle;\n",
       "    }\n",
       "\n",
       "    .dataframe tbody tr th {\n",
       "        vertical-align: top;\n",
       "    }\n",
       "\n",
       "    .dataframe thead th {\n",
       "        text-align: right;\n",
       "    }\n",
       "</style>\n",
       "<table border=\"1\" class=\"dataframe\">\n",
       "  <thead>\n",
       "    <tr style=\"text-align: right;\">\n",
       "      <th></th>\n",
       "      <th>date</th>\n",
       "      <th>target</th>\n",
       "      <th>insult</th>\n",
       "      <th>tweet</th>\n",
       "    </tr>\n",
       "  </thead>\n",
       "  <tbody>\n",
       "    <tr>\n",
       "      <th>1</th>\n",
       "      <td>2014-10-09</td>\n",
       "      <td>thomas-frieden</td>\n",
       "      <td>fool</td>\n",
       "      <td>Can you believe this fool, Dr. Thomas Frieden ...</td>\n",
       "    </tr>\n",
       "    <tr>\n",
       "      <th>2</th>\n",
       "      <td>2014-10-09</td>\n",
       "      <td>thomas-frieden</td>\n",
       "      <td>DOPE</td>\n",
       "      <td>Can you believe this fool, Dr. Thomas Frieden ...</td>\n",
       "    </tr>\n",
       "    <tr>\n",
       "      <th>3</th>\n",
       "      <td>2015-06-16</td>\n",
       "      <td>politicians</td>\n",
       "      <td>all talk and no action</td>\n",
       "      <td>Big time in U.S. today - MAKE AMERICA GREAT AG...</td>\n",
       "    </tr>\n",
       "    <tr>\n",
       "      <th>4</th>\n",
       "      <td>2015-06-24</td>\n",
       "      <td>ben-cardin</td>\n",
       "      <td>It's politicians like Cardin that have destroy...</td>\n",
       "      <td>Politician @SenatorCardin didn't like that I s...</td>\n",
       "    </tr>\n",
       "    <tr>\n",
       "      <th>5</th>\n",
       "      <td>2015-06-24</td>\n",
       "      <td>neil-young</td>\n",
       "      <td>total hypocrite</td>\n",
       "      <td>For the nonbeliever, here is a photo of @Neily...</td>\n",
       "    </tr>\n",
       "  </tbody>\n",
       "</table>\n",
       "</div>"
      ],
      "text/plain": [
       "        date          target  \\\n",
       "1 2014-10-09  thomas-frieden   \n",
       "2 2014-10-09  thomas-frieden   \n",
       "3 2015-06-16     politicians   \n",
       "4 2015-06-24      ben-cardin   \n",
       "5 2015-06-24      neil-young   \n",
       "\n",
       "                                              insult  \\\n",
       "1                                               fool   \n",
       "2                                               DOPE   \n",
       "3                             all talk and no action   \n",
       "4  It's politicians like Cardin that have destroy...   \n",
       "5                                    total hypocrite   \n",
       "\n",
       "                                               tweet  \n",
       "1  Can you believe this fool, Dr. Thomas Frieden ...  \n",
       "2  Can you believe this fool, Dr. Thomas Frieden ...  \n",
       "3  Big time in U.S. today - MAKE AMERICA GREAT AG...  \n",
       "4  Politician @SenatorCardin didn't like that I s...  \n",
       "5  For the nonbeliever, here is a photo of @Neily...  "
      ]
     },
     "execution_count": 6,
     "metadata": {},
     "output_type": "execute_result"
    }
   ],
   "source": [
    "import pandas as pd\n",
    "\n",
    "t_data = pd.read_csv('trump_insult_tweets_2014_to_2021.csv',index_col=0)\n",
    "t_data.date = pd.to_datetime(t_data.date)\n",
    "t_data.head()"
   ]
  },
  {
   "cell_type": "code",
   "execution_count": 7,
   "id": "a918d5fb",
   "metadata": {},
   "outputs": [
    {
     "data": {
      "text/plain": [
       "date      0\n",
       "target    2\n",
       "insult    0\n",
       "tweet     0\n",
       "dtype: int64"
      ]
     },
     "execution_count": 7,
     "metadata": {},
     "output_type": "execute_result"
    }
   ],
   "source": [
    "t_data.isnull().sum() # checking for null values"
   ]
  },
  {
   "cell_type": "markdown",
   "id": "f2beb41a",
   "metadata": {},
   "source": [
    "## Data Cleaning"
   ]
  },
  {
   "cell_type": "code",
   "execution_count": 8,
   "id": "343ea2bd",
   "metadata": {},
   "outputs": [],
   "source": [
    "t_data.dropna(how='any',axis=0,inplace=True) # dropping 2 rows which has missing values"
   ]
  },
  {
   "cell_type": "code",
   "execution_count": 9,
   "id": "fde09543",
   "metadata": {},
   "outputs": [
    {
     "data": {
      "text/plain": [
       "date      datetime64[ns]\n",
       "target            object\n",
       "insult            object\n",
       "tweet             object\n",
       "dtype: object"
      ]
     },
     "execution_count": 9,
     "metadata": {},
     "output_type": "execute_result"
    }
   ],
   "source": [
    "t_data.dtypes # checking data types"
   ]
  },
  {
   "cell_type": "code",
   "execution_count": 10,
   "id": "9115c19c",
   "metadata": {},
   "outputs": [
    {
     "data": {
      "text/plain": [
       "(10358, 4)"
      ]
     },
     "execution_count": 10,
     "metadata": {},
     "output_type": "execute_result"
    }
   ],
   "source": [
    "t_data.shape"
   ]
  },
  {
   "cell_type": "code",
   "execution_count": 16,
   "id": "ea7b6752",
   "metadata": {},
   "outputs": [],
   "source": [
    "import sklearn\n",
    "from sklearn.model_selection import train_test_split\n",
    "\n",
    "# Split the dataset into 60% - training, 20% - validation, and 20% - testing\n",
    "train_data, test_data = train_test_split(t_data, test_size = 0.2, random_state = 42)\n",
    "\n",
    "train_data, valid_data = train_test_split(train_data, test_size = 0.25, random_state = 42) "
   ]
  },
  {
   "cell_type": "code",
   "execution_count": 19,
   "id": "9b3f3300",
   "metadata": {},
   "outputs": [
    {
     "name": "stdout",
     "output_type": "stream",
     "text": [
      "Number of total examples: 10358\n",
      "Number of training examples: 6214\n",
      "Number of validation examples: 2072\n",
      "Number of testing examples: 2072\n"
     ]
    }
   ],
   "source": [
    "print(f'Number of total examples: {len(t_data)}')\n",
    "print(f'Number of training examples: {len(train_data)}')\n",
    "print(f'Number of validation examples: {len(valid_data)}')\n",
    "print(f'Number of testing examples: {len(test_data)}')"
   ]
  },
  {
   "cell_type": "code",
   "execution_count": 18,
   "id": "b64c6676",
   "metadata": {},
   "outputs": [],
   "source": [
    "train_data.to_csv('train.csv', index = False)\n",
    "test_data.to_csv('test.csv', index = False)\n",
    "valid_data.to_csv('valid.csv', index = False)"
   ]
  },
  {
   "cell_type": "code",
   "execution_count": 30,
   "id": "6a629ebe",
   "metadata": {},
   "outputs": [
    {
     "data": {
      "text/html": [
       "<div>\n",
       "<style scoped>\n",
       "    .dataframe tbody tr th:only-of-type {\n",
       "        vertical-align: middle;\n",
       "    }\n",
       "\n",
       "    .dataframe tbody tr th {\n",
       "        vertical-align: top;\n",
       "    }\n",
       "\n",
       "    .dataframe thead th {\n",
       "        text-align: right;\n",
       "    }\n",
       "</style>\n",
       "<table border=\"1\" class=\"dataframe\">\n",
       "  <thead>\n",
       "    <tr style=\"text-align: right;\">\n",
       "      <th></th>\n",
       "      <th>date</th>\n",
       "      <th>target</th>\n",
       "      <th>insult</th>\n",
       "      <th>tweet</th>\n",
       "    </tr>\n",
       "  </thead>\n",
       "  <tbody>\n",
       "    <tr>\n",
       "      <th>7471</th>\n",
       "      <td>2019-12-12</td>\n",
       "      <td>msnbc</td>\n",
       "      <td>Fake News</td>\n",
       "      <td>It’s great to have a wonderful subject, Presid...</td>\n",
       "    </tr>\n",
       "    <tr>\n",
       "      <th>1453</th>\n",
       "      <td>2016-05-28</td>\n",
       "      <td>the-media</td>\n",
       "      <td>biased</td>\n",
       "      <td>Don't believe the biased and phony media quoti...</td>\n",
       "    </tr>\n",
       "    <tr>\n",
       "      <th>1174</th>\n",
       "      <td>2016-03-18</td>\n",
       "      <td>megyn-kelly</td>\n",
       "      <td>sick</td>\n",
       "      <td>Everybody should boycott the @megynkelly show....</td>\n",
       "    </tr>\n",
       "    <tr>\n",
       "      <th>8040</th>\n",
       "      <td>2020-03-02</td>\n",
       "      <td>michael-bloomberg</td>\n",
       "      <td>bad debate performances</td>\n",
       "      <td>“Ever since (Mini Mike) Bloomberg’s bad debate...</td>\n",
       "    </tr>\n",
       "    <tr>\n",
       "      <th>1307</th>\n",
       "      <td>2016-05-07</td>\n",
       "      <td>elizabeth-warren</td>\n",
       "      <td>All talk, no action -- maybe her Native Americ...</td>\n",
       "      <td>Goofy Elizabeth Warren is weak and ineffective...</td>\n",
       "    </tr>\n",
       "  </tbody>\n",
       "</table>\n",
       "</div>"
      ],
      "text/plain": [
       "           date             target  \\\n",
       "7471 2019-12-12              msnbc   \n",
       "1453 2016-05-28          the-media   \n",
       "1174 2016-03-18        megyn-kelly   \n",
       "8040 2020-03-02  michael-bloomberg   \n",
       "1307 2016-05-07   elizabeth-warren   \n",
       "\n",
       "                                                 insult  \\\n",
       "7471                                          Fake News   \n",
       "1453                                             biased   \n",
       "1174                                               sick   \n",
       "8040                            bad debate performances   \n",
       "1307  All talk, no action -- maybe her Native Americ...   \n",
       "\n",
       "                                                  tweet  \n",
       "7471  It’s great to have a wonderful subject, Presid...  \n",
       "1453  Don't believe the biased and phony media quoti...  \n",
       "1174  Everybody should boycott the @megynkelly show....  \n",
       "8040  “Ever since (Mini Mike) Bloomberg’s bad debate...  \n",
       "1307  Goofy Elizabeth Warren is weak and ineffective...  "
      ]
     },
     "execution_count": 30,
     "metadata": {},
     "output_type": "execute_result"
    }
   ],
   "source": [
    "train_data.head()"
   ]
  },
  {
   "cell_type": "code",
   "execution_count": 46,
   "id": "0c3ad883",
   "metadata": {
    "code_folding": []
   },
   "outputs": [
    {
     "ename": "NameError",
     "evalue": "name 'List' is not defined",
     "output_type": "error",
     "traceback": [
      "\u001b[0;31m---------------------------------------------------------------------------\u001b[0m",
      "\u001b[0;31mNameError\u001b[0m                                 Traceback (most recent call last)",
      "\u001b[0;32m/var/folders/_c/3x_68fnx09961ghq1k_61zb40000gn/T/ipykernel_21376/8991107.py\u001b[0m in \u001b[0;36m<module>\u001b[0;34m\u001b[0m\n\u001b[1;32m     17\u001b[0m \u001b[0;34m\u001b[0m\u001b[0m\n\u001b[1;32m     18\u001b[0m \u001b[0;31m# Create a tokenizer function\u001b[0m\u001b[0;34m\u001b[0m\u001b[0;34m\u001b[0m\u001b[0;34m\u001b[0m\u001b[0m\n\u001b[0;32m---> 19\u001b[0;31m \u001b[0;32mdef\u001b[0m \u001b[0mtokenizer_en\u001b[0m\u001b[0;34m(\u001b[0m\u001b[0mtext\u001b[0m\u001b[0;34m:\u001b[0m \u001b[0mstr\u001b[0m\u001b[0;34m)\u001b[0m \u001b[0;34m->\u001b[0m \u001b[0mList\u001b[0m\u001b[0;34m[\u001b[0m\u001b[0mstr\u001b[0m\u001b[0;34m]\u001b[0m\u001b[0;34m:\u001b[0m\u001b[0;34m\u001b[0m\u001b[0;34m\u001b[0m\u001b[0m\n\u001b[0m\u001b[1;32m     20\u001b[0m     \u001b[0;32mreturn\u001b[0m \u001b[0;34m[\u001b[0m\u001b[0mtok\u001b[0m\u001b[0;34m.\u001b[0m\u001b[0mtext\u001b[0m \u001b[0;32mfor\u001b[0m \u001b[0mtok\u001b[0m \u001b[0;32min\u001b[0m \u001b[0mnlp\u001b[0m\u001b[0;34m.\u001b[0m\u001b[0mtokenizer\u001b[0m\u001b[0;34m(\u001b[0m\u001b[0mtext\u001b[0m\u001b[0;34m)\u001b[0m\u001b[0;34m]\u001b[0m\u001b[0;34m\u001b[0m\u001b[0;34m\u001b[0m\u001b[0m\n\u001b[1;32m     21\u001b[0m \u001b[0;34m\u001b[0m\u001b[0m\n",
      "\u001b[0;31mNameError\u001b[0m: name 'List' is not defined"
     ]
    }
   ],
   "source": [
    "import torch\n",
    "from torchtext.legacy import data\n",
    "import spacy \n",
    "\n",
    "torch.manual_seed(SEED)\n",
    "torch.backends.cudnn.deterministic = True\n",
    "\n",
    "# TEXT = data.Field(tokenize = 'spacy', tokenizer_language = 'en_core_web_sm')\n",
    "# LABEL = data.LabelField(dtype = torch.float)\n",
    "\n",
    "# Load model to return language object, note that en is deprecated\n",
    "nlp = spacy.load('en_core_web_sm')\n",
    "\n",
    "# Calling nlp on tweet texts to return a processed doc for each\n",
    "# train_data['tokenized_tweet'] = [nlp(tweet) for tweet in train_data.tweet]\n",
    "# train_data.sample(3)\n",
    "\n",
    "# Create a tokenizer function\n",
    "def tokenizer_en(text: str) -> List[str]:\n",
    "    return [tok.text for tok in nlp.tokenizer(text)]\n",
    "\n",
    "\n",
    "DATE = data.Field()\n",
    "TARGET = data.Field()\n",
    "INSULT = data.Field()\n",
    "TWEET = data.Field(\n",
    "  tokenize    = tokenizer_en,\n",
    "  lower       = True,\n",
    "  batch_first = True,\n",
    "  init_token  = '<bos>',\n",
    "  eos_token   = '<eos>'\n",
    ")\n",
    "\n"
   ]
  },
  {
   "cell_type": "code",
   "execution_count": 43,
   "id": "0b483628",
   "metadata": {},
   "outputs": [
    {
     "data": {
      "text/html": [
       "<div>\n",
       "<style scoped>\n",
       "    .dataframe tbody tr th:only-of-type {\n",
       "        vertical-align: middle;\n",
       "    }\n",
       "\n",
       "    .dataframe tbody tr th {\n",
       "        vertical-align: top;\n",
       "    }\n",
       "\n",
       "    .dataframe thead th {\n",
       "        text-align: right;\n",
       "    }\n",
       "</style>\n",
       "<table border=\"1\" class=\"dataframe\">\n",
       "  <thead>\n",
       "    <tr style=\"text-align: right;\">\n",
       "      <th></th>\n",
       "      <th>date</th>\n",
       "      <th>target</th>\n",
       "      <th>insult</th>\n",
       "      <th>tweet</th>\n",
       "    </tr>\n",
       "  </thead>\n",
       "  <tbody>\n",
       "    <tr>\n",
       "      <th>7471</th>\n",
       "      <td>2019-12-12</td>\n",
       "      <td>msnbc</td>\n",
       "      <td>Fake News</td>\n",
       "      <td>It’s great to have a wonderful subject, Presid...</td>\n",
       "    </tr>\n",
       "    <tr>\n",
       "      <th>1453</th>\n",
       "      <td>2016-05-28</td>\n",
       "      <td>the-media</td>\n",
       "      <td>biased</td>\n",
       "      <td>Don't believe the biased and phony media quoti...</td>\n",
       "    </tr>\n",
       "    <tr>\n",
       "      <th>1174</th>\n",
       "      <td>2016-03-18</td>\n",
       "      <td>megyn-kelly</td>\n",
       "      <td>sick</td>\n",
       "      <td>Everybody should boycott the @megynkelly show....</td>\n",
       "    </tr>\n",
       "  </tbody>\n",
       "</table>\n",
       "</div>"
      ],
      "text/plain": [
       "           date       target     insult  \\\n",
       "7471 2019-12-12        msnbc  Fake News   \n",
       "1453 2016-05-28    the-media     biased   \n",
       "1174 2016-03-18  megyn-kelly       sick   \n",
       "\n",
       "                                                  tweet  \n",
       "7471  It’s great to have a wonderful subject, Presid...  \n",
       "1453  Don't believe the biased and phony media quoti...  \n",
       "1174  Everybody should boycott the @megynkelly show....  "
      ]
     },
     "execution_count": 43,
     "metadata": {},
     "output_type": "execute_result"
    }
   ],
   "source": [
    "train_data.drop('doc', axis=1, inplace=True)\n",
    "train_data.head(3)"
   ]
  },
  {
   "cell_type": "code",
   "execution_count": 45,
   "id": "1ea5ee94",
   "metadata": {},
   "outputs": [
    {
     "ename": "NameError",
     "evalue": "name 'DATE' is not defined",
     "output_type": "error",
     "traceback": [
      "\u001b[0;31m---------------------------------------------------------------------------\u001b[0m",
      "\u001b[0;31mNameError\u001b[0m                                 Traceback (most recent call last)",
      "\u001b[0;32m/var/folders/_c/3x_68fnx09961ghq1k_61zb40000gn/T/ipykernel_21376/1381257313.py\u001b[0m in \u001b[0;36m<module>\u001b[0;34m\u001b[0m\n\u001b[1;32m      1\u001b[0m \u001b[0;31m#fields = {'date': ('d', date), 'target': ('t', target), 'insult': ('i', insult), 'tweet': ('t', tweet)}\u001b[0m\u001b[0;34m\u001b[0m\u001b[0;34m\u001b[0m\u001b[0;34m\u001b[0m\u001b[0m\n\u001b[0;32m----> 2\u001b[0;31m \u001b[0mfields\u001b[0m \u001b[0;34m=\u001b[0m \u001b[0;34m{\u001b[0m\u001b[0;34m'date'\u001b[0m\u001b[0;34m:\u001b[0m \u001b[0;34m(\u001b[0m\u001b[0;34m'd'\u001b[0m\u001b[0;34m,\u001b[0m \u001b[0mDATE\u001b[0m\u001b[0;34m)\u001b[0m\u001b[0;34m,\u001b[0m \u001b[0;34m'target'\u001b[0m\u001b[0;34m:\u001b[0m \u001b[0;34m(\u001b[0m\u001b[0;34m't'\u001b[0m\u001b[0;34m,\u001b[0m \u001b[0mTARGET\u001b[0m\u001b[0;34m)\u001b[0m\u001b[0;34m,\u001b[0m \u001b[0;34m'insult'\u001b[0m\u001b[0;34m:\u001b[0m \u001b[0;34m(\u001b[0m\u001b[0;34m'i'\u001b[0m\u001b[0;34m,\u001b[0m \u001b[0mINSULT\u001b[0m\u001b[0;34m)\u001b[0m\u001b[0;34m,\u001b[0m \u001b[0;34m'tweet'\u001b[0m\u001b[0;34m:\u001b[0m \u001b[0;34m(\u001b[0m\u001b[0;34m't'\u001b[0m\u001b[0;34m,\u001b[0m \u001b[0mTWEET\u001b[0m\u001b[0;34m)\u001b[0m\u001b[0;34m}\u001b[0m\u001b[0;34m\u001b[0m\u001b[0;34m\u001b[0m\u001b[0m\n\u001b[0m\u001b[1;32m      3\u001b[0m \u001b[0;34m\u001b[0m\u001b[0m\n\u001b[1;32m      4\u001b[0m train_data, valid_data, test_data = data.TabularDataset.splits(\n\u001b[1;32m      5\u001b[0m                                         \u001b[0mpath\u001b[0m \u001b[0;34m=\u001b[0m \u001b[0;34m'data'\u001b[0m\u001b[0;34m,\u001b[0m\u001b[0;34m\u001b[0m\u001b[0;34m\u001b[0m\u001b[0m\n",
      "\u001b[0;31mNameError\u001b[0m: name 'DATE' is not defined"
     ]
    }
   ],
   "source": [
    "#fields = {'date': ('d', date), 'target': ('t', target), 'insult': ('i', insult), 'tweet': ('t', tweet)}\n",
    "fields = {'date': ('d', DATE), 'target': ('t', TARGET), 'insult': ('i', INSULT), 'tweet': ('t', TWEET)}\n",
    "\n",
    "train_data, valid_data, test_data = data.TabularDataset.splits(\n",
    "                                        path = 'data',\n",
    "                                        train = 'train.csv',\n",
    "                                        validation = 'valid.csv',\n",
    "                                        test = 'test.csv',\n",
    "                                        format = 'csv',\n",
    "                                        fields = fields,\n",
    "                                        skip_header = False\n",
    ")\n",
    "\n",
    "print(train_data[0]. __dict__.keys())\n",
    "print(train_data[0]. __dict__.values())"
   ]
  },
  {
   "cell_type": "markdown",
   "id": "161002f3",
   "metadata": {},
   "source": [
    "# Data Preprocessing "
   ]
  },
  {
   "cell_type": "code",
   "execution_count": 18,
   "id": "5bbf6608",
   "metadata": {},
   "outputs": [
    {
     "data": {
      "text/html": [
       "<div>\n",
       "<style scoped>\n",
       "    .dataframe tbody tr th:only-of-type {\n",
       "        vertical-align: middle;\n",
       "    }\n",
       "\n",
       "    .dataframe tbody tr th {\n",
       "        vertical-align: top;\n",
       "    }\n",
       "\n",
       "    .dataframe thead th {\n",
       "        text-align: right;\n",
       "    }\n",
       "</style>\n",
       "<table border=\"1\" class=\"dataframe\">\n",
       "  <thead>\n",
       "    <tr style=\"text-align: right;\">\n",
       "      <th></th>\n",
       "      <th>text</th>\n",
       "      <th>date</th>\n",
       "    </tr>\n",
       "  </thead>\n",
       "  <tbody>\n",
       "    <tr>\n",
       "      <th>0</th>\n",
       "      <td>can you believe this fool dr thomas frieden of...</td>\n",
       "      <td>2014-10-09</td>\n",
       "    </tr>\n",
       "    <tr>\n",
       "      <th>1</th>\n",
       "      <td>big time in u s today make america great again...</td>\n",
       "      <td>2015-06-16</td>\n",
       "    </tr>\n",
       "    <tr>\n",
       "      <th>2</th>\n",
       "      <td>politician didn t like thatsaid baltimore need...</td>\n",
       "      <td>2015-06-24</td>\n",
       "    </tr>\n",
       "    <tr>\n",
       "      <th>3</th>\n",
       "      <td>for the nonbeliever here isphoto of in my offi...</td>\n",
       "      <td>2015-06-24</td>\n",
       "    </tr>\n",
       "    <tr>\n",
       "      <th>4</th>\n",
       "      <td>song rockin in the free world was just one of ...</td>\n",
       "      <td>2015-06-24</td>\n",
       "    </tr>\n",
       "  </tbody>\n",
       "</table>\n",
       "</div>"
      ],
      "text/plain": [
       "                                                text       date\n",
       "0  can you believe this fool dr thomas frieden of... 2014-10-09\n",
       "1  big time in u s today make america great again... 2015-06-16\n",
       "2  politician didn t like thatsaid baltimore need... 2015-06-24\n",
       "3  for the nonbeliever here isphoto of in my offi... 2015-06-24\n",
       "4  song rockin in the free world was just one of ... 2015-06-24"
      ]
     },
     "execution_count": 18,
     "metadata": {},
     "output_type": "execute_result"
    }
   ],
   "source": [
    "import re\n",
    "\n",
    "text_dict = dict()\n",
    "for (tweet,date) in zip(t_data.tweet,t_data.date):\n",
    "    text_dict[(tweet,date)] = text_dict.get((tweet,date),0) + 1\n",
    "    \n",
    "text_dict = list(text_dict.keys())\n",
    "f_data = pd.DataFrame(text_dict,columns=['text','date'])\n",
    "\n",
    "# Convert into lowercase\n",
    "f_data.text =f_data.text.str.lower()\n",
    "\n",
    "# Remove twitter handlers\n",
    "f_data.text = f_data.text.apply(lambda x:re.sub('@[^\\s]+','',x))\n",
    "\n",
    "# Remove hashtags\n",
    "f_data.text = f_data.text.apply(lambda x:re.sub(r'\\B#\\S+','',x))\n",
    "\n",
    "# Remove URLs\n",
    "f_data.text = f_data.text.apply(lambda x:re.sub(r\"http\\S+\", \"\", x))\n",
    "\n",
    "# Remove all single characters\n",
    "f_data.text = f_data.text.apply(lambda x:re.sub(r'\\s+[a-zA-Z]\\s+', '', x))\n",
    "\n",
    "# Substituting multiple spaces with single space\n",
    "f_data.text = f_data.text.apply(lambda x:re.sub(r'\\s+', ' ', x, flags=re.I))\n",
    "\n",
    "# Remove all the special characters\n",
    "f_data.text = f_data.text.apply(lambda x:' '.join(re.findall(r'\\w+', x)))\n",
    "\n",
    "f_data.head()\n",
    "\n",
    "def cleanup_text(texts):\n",
    "    cleaned_text = []\n",
    "    for text in texts:\n",
    "        # remove punctuation\n",
    "        text = re.sub('[^a-zA-Z0-9]', ' ', text)\n",
    "        # remove multiple spaces\n",
    "        text = re.sub(r' +', ' ', text)\n",
    "        # remove newline\n",
    "        text = re.sub(r'\\n', ' ', text)\n",
    "        cleaned_text.append(text)\n",
    "    return cleaned_text"
   ]
  },
  {
   "cell_type": "code",
   "execution_count": 19,
   "id": "a7ce60bc",
   "metadata": {},
   "outputs": [
    {
     "data": {
      "text/plain": [
       "5680"
      ]
     },
     "execution_count": 19,
     "metadata": {},
     "output_type": "execute_result"
    }
   ],
   "source": [
    "len(f_data)"
   ]
  },
  {
   "cell_type": "markdown",
   "id": "0522bac3",
   "metadata": {},
   "source": [
    "# Split"
   ]
  }
 ],
 "metadata": {
  "kernelspec": {
   "display_name": "Python 3 (ipykernel)",
   "language": "python",
   "name": "python3"
  },
  "language_info": {
   "codemirror_mode": {
    "name": "ipython",
    "version": 3
   },
   "file_extension": ".py",
   "mimetype": "text/x-python",
   "name": "python",
   "nbconvert_exporter": "python",
   "pygments_lexer": "ipython3",
   "version": "3.8.11"
  }
 },
 "nbformat": 4,
 "nbformat_minor": 5
}
